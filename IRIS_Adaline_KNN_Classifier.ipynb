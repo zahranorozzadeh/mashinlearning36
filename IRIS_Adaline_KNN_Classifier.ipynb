{
 "cells": [
  {
   "cell_type": "code",
   "execution_count": 1,
   "id": "574bd4f7-833c-4a1d-863a-6e4d7e262287",
   "metadata": {},
   "outputs": [],
   "source": [
    "import matplotlib.pyplot as plt\n",
    "import numpy as np\n",
    "import pandas as pd\n",
    "from sklearn.model_selection import train_test_split\n",
    "from sklearn.datasets import load_iris\n",
    "from numpy.linalg import inv"
   ]
  },
  {
   "cell_type": "code",
   "execution_count": 2,
   "id": "ed06d552-0e68-4a32-82ae-42c6e6cc0521",
   "metadata": {},
   "outputs": [],
   "source": [
    "class KNearestNeighbors:\n",
    "    def __init__(self, k):\n",
    "        self.k = k\n",
    "        \n",
    "    def fit(self, X_train, Y_train):\n",
    "        self.X_train = X_train\n",
    "        self.Y_train = Y_train\n",
    "        self.number_class = len(np.unique(Y_train))\n",
    "        \n",
    "    def nearestNeighbors(self, X_test):\n",
    "        distance = np.sqrt(np.sum((X_test - self.X_train)**2, axis = 1))\n",
    "        near_neighbor = np.argsort(distance)[0:self.k]\n",
    "        return near_neighbor\n",
    "    \n",
    "    def predict(self, X_test):\n",
    "        self.X_test = X_test\n",
    "        y_predict=np.zeros(len(self.X_test))\n",
    "        for i, test in enumerate(self.X_test):\n",
    "            near_neighbor = self.nearestNeighbors(test)\n",
    "            y_predict[i] = np.argmax(np.bincount(self.Y_train[near_neighbor]))\n",
    "        return y_predict\n",
    "    \n",
    "    def evaluate(self, X_test, Y_test):\n",
    "        self.X_test = X_test\n",
    "        self.Y_test = Y_test\n",
    "        y_predict=self.predict(self.X_test)\n",
    "        evaluatation = (y_predict == self.Y_test).sum()/len(self.Y_test)\n",
    "        return evaluatation"
   ]
  },
  {
   "cell_type": "code",
   "execution_count": 3,
   "id": "921d11a7-0116-40ca-bf16-1ae03aac3096",
   "metadata": {},
   "outputs": [],
   "source": [
    "class AdalineClassifier:\n",
    "    def __init__(self):\n",
    "        pass\n",
    "    \n",
    "    def fit(self, X_train, Y_train):\n",
    "        self.w = np.matmul(inv(np.matmul(X_train.T, X_train)), np.matmul(X_train.T, Y_train))\n",
    "        \n",
    "    def predict(self, X_test):\n",
    "        Y_predic = np.matmul(X_test, self.w)\n",
    "        return Y_predic\n",
    "    \n",
    "    def evaluate(self, X_test, Y_test):\n",
    "        self.X_test = X_test\n",
    "        self.Y_test = Y_test\n",
    "        Y_predic = np.matmul(self.X_test, self.w)\n",
    "        predic = np.zeros(len(self.X_test))\n",
    "        for i, pred in enumerate(Y_predic):\n",
    "            if pred > 0.5:\n",
    "                predic[i] = (1)\n",
    "            elif pred < 0.5:\n",
    "                predic[i] = (0)\n",
    "        evaluatation = (predic == self.Y_test).sum()/len(self.Y_test)\n",
    "        return evaluatation, predic"
   ]
  },
  {
   "cell_type": "code",
   "execution_count": 4,
   "id": "d03705bd-dba7-417b-bcc0-aaaad952ad70",
   "metadata": {},
   "outputs": [],
   "source": [
    "iris = load_iris()"
   ]
  },
  {
   "cell_type": "code",
   "execution_count": 5,
   "id": "1597d31b-fb11-48af-a85d-76b068ac62e0",
   "metadata": {},
   "outputs": [],
   "source": [
    "\n",
    "X = iris['data']\n",
    "Y = iris['target']\n",
    "X1 = X[1:100,:]\n",
    "Y1 = Y[1:100]"
   ]
  },
  {
   "cell_type": "code",
   "execution_count": 6,
   "id": "a65cb652-d0b6-4e82-ac82-1a9bd466afcb",
   "metadata": {},
   "outputs": [
    {
     "name": "stdout",
     "output_type": "stream",
     "text": [
      "The Accuracy of KNearestNeighbors classifier is 1.0\n"
     ]
    }
   ],
   "source": [
    "knn = KNearestNeighbors(k=5)\n",
    "X_train, X_test, Y_train, Y_test = train_test_split(X1, Y1, test_size=0.5, random_state=3)\n",
    "knn.fit(X_train,Y_train)\n",
    "knn_prediction = knn.predict(X_test)\n",
    "evaluatation = knn.evaluate(X_test, Y_test)\n",
    "print('The Accuracy of KNearestNeighbors classifier is', evaluatation)"
   ]
  },
  {
   "cell_type": "code",
   "execution_count": 7,
   "id": "0673ebf8-14f0-42c0-bb71-5f0ce19eade7",
   "metadata": {},
   "outputs": [
    {
     "name": "stdout",
     "output_type": "stream",
     "text": [
      "The Accuracy of AdalineClassifier is 1.0\n"
     ]
    }
   ],
   "source": [
    "model = AdalineClassifier()\n",
    "model.fit(X_train, Y_train)\n",
    "y_predic = model.predict(X)\n",
    "evaluatation, prediction = model.evaluate(X_test, Y_test)\n",
    "print('The Accuracy of AdalineClassifier is', evaluatation)"
   ]
  },
  {
   "cell_type": "code",
   "execution_count": null,
   "id": "bb7203a7-b73e-4e23-8659-c2e1128d4d61",
   "metadata": {},
   "outputs": [],
   "source": []
  },
  {
   "cell_type": "code",
   "execution_count": null,
   "id": "65d81b52-3c15-4676-aa95-fb04267439d3",
   "metadata": {},
   "outputs": [],
   "source": []
  }
 ],
 "metadata": {
  "kernelspec": {
   "display_name": "Python 3",
   "language": "python",
   "name": "python3"
  },
  "language_info": {
   "codemirror_mode": {
    "name": "ipython",
    "version": 3
   },
   "file_extension": ".py",
   "mimetype": "text/x-python",
   "name": "python",
   "nbconvert_exporter": "python",
   "pygments_lexer": "ipython3",
   "version": "3.8.8"
  }
 },
 "nbformat": 4,
 "nbformat_minor": 5
}
