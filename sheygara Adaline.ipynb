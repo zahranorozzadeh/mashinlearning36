{
 "cells": [
  {
   "cell_type": "code",
   "execution_count": 77,
   "id": "8eca27f7-a381-4ee7-96ff-927198dd0d17",
   "metadata": {},
   "outputs": [],
   "source": [
    "import numpy as np\n",
    "import matplotlib.pyplot as plt\n",
    "import pandas as pd\n",
    "from numpy.linalg import inv\n",
    "import random"
   ]
  },
  {
   "cell_type": "code",
   "execution_count": 78,
   "id": "cd9eb3dc-d247-4f1e-8f77-14838edc0bb5",
   "metadata": {},
   "outputs": [],
   "source": [
    "N = 100\n",
    "def generate_data(N):\n",
    "    X = []\n",
    "    Y = []\n",
    "    for i in range(N):\n",
    "        x = random.randint(1,40)\n",
    "        X.append(x)\n",
    "\n",
    "        y = x + random.random()*4\n",
    "        Y.append(y)\n",
    "\n",
    "    X = np.array(X)\n",
    "    Y = np.array(Y)\n",
    "\n",
    "    X = X.reshape(N,1)\n",
    "    Y = Y.reshape(N,1)\n",
    "    return X,Y\n",
    "\n",
    "X_train,Y_train = generate_data(100)    \n",
    "#plt.scatter(X,Y)\n",
    "    "
   ]
  },
  {
   "cell_type": "code",
   "execution_count": 79,
   "id": "96390dd4-3110-4aff-a992-1574587297b3",
   "metadata": {},
   "outputs": [
    {
     "data": {
      "text/plain": [
       "array([[21],\n",
       "       [30],\n",
       "       [16],\n",
       "       [27],\n",
       "       [ 7],\n",
       "       [ 4],\n",
       "       [18],\n",
       "       [31],\n",
       "       [34],\n",
       "       [33],\n",
       "       [23],\n",
       "       [11],\n",
       "       [16],\n",
       "       [40],\n",
       "       [19],\n",
       "       [15],\n",
       "       [19],\n",
       "       [22],\n",
       "       [40],\n",
       "       [ 2],\n",
       "       [ 9],\n",
       "       [17],\n",
       "       [31],\n",
       "       [36],\n",
       "       [26],\n",
       "       [21],\n",
       "       [15],\n",
       "       [ 9],\n",
       "       [14],\n",
       "       [24],\n",
       "       [32],\n",
       "       [15],\n",
       "       [35],\n",
       "       [22],\n",
       "       [34],\n",
       "       [13],\n",
       "       [29],\n",
       "       [27],\n",
       "       [35],\n",
       "       [25],\n",
       "       [31],\n",
       "       [37],\n",
       "       [23],\n",
       "       [23],\n",
       "       [39],\n",
       "       [33],\n",
       "       [26],\n",
       "       [ 3],\n",
       "       [33],\n",
       "       [25],\n",
       "       [12],\n",
       "       [ 6],\n",
       "       [14],\n",
       "       [24],\n",
       "       [24],\n",
       "       [21],\n",
       "       [ 1],\n",
       "       [17],\n",
       "       [21],\n",
       "       [36],\n",
       "       [ 4],\n",
       "       [13],\n",
       "       [ 3],\n",
       "       [14],\n",
       "       [35],\n",
       "       [11],\n",
       "       [ 6],\n",
       "       [13],\n",
       "       [20],\n",
       "       [11],\n",
       "       [35],\n",
       "       [ 4],\n",
       "       [ 4],\n",
       "       [24],\n",
       "       [23],\n",
       "       [30],\n",
       "       [12],\n",
       "       [ 4],\n",
       "       [16],\n",
       "       [40],\n",
       "       [20],\n",
       "       [26],\n",
       "       [13],\n",
       "       [11],\n",
       "       [11],\n",
       "       [36],\n",
       "       [17],\n",
       "       [10],\n",
       "       [ 9],\n",
       "       [29],\n",
       "       [33],\n",
       "       [12],\n",
       "       [15],\n",
       "       [19],\n",
       "       [ 3],\n",
       "       [10],\n",
       "       [14],\n",
       "       [34],\n",
       "       [40],\n",
       "       [ 4]])"
      ]
     },
     "execution_count": 79,
     "metadata": {},
     "output_type": "execute_result"
    }
   ],
   "source": [
    "X"
   ]
  },
  {
   "cell_type": "code",
   "execution_count": 80,
   "id": "6f889224-c0c7-4af1-acf9-000615927af5",
   "metadata": {},
   "outputs": [
    {
     "data": {
      "text/plain": [
       "array([[21.69871864],\n",
       "       [32.55187786],\n",
       "       [17.09824163],\n",
       "       [29.70539237],\n",
       "       [ 9.34838461],\n",
       "       [ 5.82207602],\n",
       "       [20.28622696],\n",
       "       [32.96485232],\n",
       "       [35.93652103],\n",
       "       [36.1455602 ],\n",
       "       [25.2593588 ],\n",
       "       [13.42271716],\n",
       "       [16.12787584],\n",
       "       [40.48007075],\n",
       "       [19.80112519],\n",
       "       [16.14172322],\n",
       "       [20.15609099],\n",
       "       [25.67946079],\n",
       "       [42.62958568],\n",
       "       [ 4.97895968],\n",
       "       [11.7959882 ],\n",
       "       [18.96504043],\n",
       "       [33.78870998],\n",
       "       [38.78765545],\n",
       "       [28.14714515],\n",
       "       [23.84432979],\n",
       "       [17.23954085],\n",
       "       [10.41238738],\n",
       "       [17.77553222],\n",
       "       [24.05935341],\n",
       "       [34.69935686],\n",
       "       [18.95369659],\n",
       "       [38.03804643],\n",
       "       [25.40461377],\n",
       "       [35.76139704],\n",
       "       [15.8150718 ],\n",
       "       [32.05231845],\n",
       "       [30.62064255],\n",
       "       [37.11977655],\n",
       "       [28.89056756],\n",
       "       [34.52293206],\n",
       "       [40.39033506],\n",
       "       [26.64416888],\n",
       "       [25.37771203],\n",
       "       [39.75646203],\n",
       "       [33.17382631],\n",
       "       [26.15604226],\n",
       "       [ 4.64506892],\n",
       "       [33.90307899],\n",
       "       [26.949751  ],\n",
       "       [13.12972338],\n",
       "       [ 9.31642066],\n",
       "       [14.44415368],\n",
       "       [25.52555021],\n",
       "       [27.06009127],\n",
       "       [21.43395919],\n",
       "       [ 4.00540563],\n",
       "       [20.74116485],\n",
       "       [22.24003468],\n",
       "       [36.90458432],\n",
       "       [ 7.51484941],\n",
       "       [16.39980138],\n",
       "       [ 5.25905009],\n",
       "       [14.57557345],\n",
       "       [37.99587091],\n",
       "       [11.43974777],\n",
       "       [ 9.4965403 ],\n",
       "       [14.46315319],\n",
       "       [21.1995551 ],\n",
       "       [11.32115127],\n",
       "       [38.63524181],\n",
       "       [ 5.98718767],\n",
       "       [ 6.50208344],\n",
       "       [27.52791001],\n",
       "       [25.46475712],\n",
       "       [31.83828015],\n",
       "       [12.77798531],\n",
       "       [ 4.86224147],\n",
       "       [17.5777977 ],\n",
       "       [43.05200265],\n",
       "       [23.13966347],\n",
       "       [28.38903336],\n",
       "       [16.78163954],\n",
       "       [12.82543816],\n",
       "       [12.65907808],\n",
       "       [39.68812528],\n",
       "       [17.48610249],\n",
       "       [11.93264401],\n",
       "       [ 9.44678884],\n",
       "       [31.3658406 ],\n",
       "       [36.88153009],\n",
       "       [12.53777041],\n",
       "       [18.75148207],\n",
       "       [20.20860548],\n",
       "       [ 5.94876558],\n",
       "       [11.16582732],\n",
       "       [17.67610586],\n",
       "       [36.37706184],\n",
       "       [41.20715386],\n",
       "       [ 5.83313614]])"
      ]
     },
     "execution_count": 80,
     "metadata": {},
     "output_type": "execute_result"
    }
   ],
   "source": [
    "Y"
   ]
  },
  {
   "cell_type": "code",
   "execution_count": 109,
   "id": "b83bf273-3adf-4829-916b-f29c8f254dea",
   "metadata": {},
   "outputs": [],
   "source": [
    "class AdalineRegressor:\n",
    "    def __init__(self):\n",
    "        pass\n",
    "    def fit(self,X_train,Y_train):\n",
    "        # w = (X.T*X)^-1 * X.T*Y\n",
    "        self.w = np.matmul(inv(np.matmul(X_train.T,X_train)),np.matmul(X_train.T,Y_train)) \n",
    "        \n",
    "    def predict(self,X_test):\n",
    "        Y_pred = np.matmul(X_test,self.w)\n",
    "        return Y_pred\n",
    "    def evaluate(self, X_test, Y_test):\n",
    "            #MAE\n",
    "            Y_pred = np.matmul(X_test,self.w)\n",
    "            subtract = np.abs(Y_test - Y_pred)\n",
    "            average = np.mean(subtract)\n",
    "            return average\n",
    "         "
   ]
  },
  {
   "cell_type": "code",
   "execution_count": 110,
   "id": "7a8a5fed-a76a-4265-923d-f4c6dec4e4a3",
   "metadata": {},
   "outputs": [
    {
     "name": "stdout",
     "output_type": "stream",
     "text": [
      "[[1.06813979]]\n"
     ]
    }
   ],
   "source": [
    "model = AdalineRegressor()\n",
    "model.fit(X_train,Y_train)\n",
    "print(model.w)"
   ]
  },
  {
   "cell_type": "code",
   "execution_count": 111,
   "id": "794fefb4-dd6c-49c8-a5fb-4926abda9f6e",
   "metadata": {},
   "outputs": [],
   "source": [
    "Y_pred = np.matmul(X_train, model.w)"
   ]
  },
  {
   "cell_type": "code",
   "execution_count": 112,
   "id": "ac1cdf80-d647-432a-a3a5-613b08a20285",
   "metadata": {},
   "outputs": [
    {
     "data": {
      "text/plain": [
       "[<matplotlib.lines.Line2D at 0x1d67e197e20>]"
      ]
     },
     "execution_count": 112,
     "metadata": {},
     "output_type": "execute_result"
    },
    {
     "data": {
      "image/png": "[encoded data removed]",
      "text/plain": [
       "<Figure size 432x288 with 1 Axes>"
      ]
     },
     "metadata": {
      "needs_background": "light"
     },
     "output_type": "display_data"
    }
   ],
   "source": [
    "plt.scatter(X_train,Y_train, c = 'blue')\n",
    "plt.plot(X_train, Y_pred, c='red',lw=4)"
   ]
  },
  {
   "cell_type": "code",
   "execution_count": 113,
   "id": "639119e4-ff0c-4732-865e-bb5e838ed8db",
   "metadata": {},
   "outputs": [
    {
     "name": "stdout",
     "output_type": "stream",
     "text": [
      "[40.58931194]\n"
     ]
    }
   ],
   "source": [
    "X_test = np.array([38])\n",
    "y_pred = model.predict(X_test)\n",
    "print(y_pred)"
   ]
  },
  {
   "cell_type": "code",
   "execution_count": 120,
   "id": "002b6bc9-45ed-4e70-8d29-331cf7914269",
   "metadata": {},
   "outputs": [],
   "source": [
    "X_test,Y_test = generate_data(100)"
   ]
  },
  {
   "cell_type": "code",
   "execution_count": 121,
   "id": "31bbf906-89f9-41f4-8601-fe76da181e9a",
   "metadata": {},
   "outputs": [
    {
     "name": "stdout",
     "output_type": "stream",
     "text": [
      "1.1918380378726183\n"
     ]
    }
   ],
   "source": [
    "loss = model.evaluate(X_test , Y_test)\n",
    "print(loss)"
   ]
  },
  {
   "cell_type": "code",
   "execution_count": null,
   "id": "047c175e-3107-4111-879b-f83e22ed976b",
   "metadata": {},
   "outputs": [],
   "source": []
  },
  {
   "cell_type": "code",
   "execution_count": null,
   "id": "a5cd3703-e38c-4598-9dd9-49c691f07d78",
   "metadata": {},
   "outputs": [],
   "source": []
  },
  {
   "cell_type": "code",
   "execution_count": null,
   "id": "1e1e195c-e79c-41ff-94f9-c2100982744c",
   "metadata": {},
   "outputs": [],
   "source": []
  }
 ],
 "metadata": {
  "kernelspec": {
   "display_name": "Python 3",
   "language": "python",
   "name": "python3"
  },
  "language_info": {
   "codemirror_mode": {
    "name": "ipython",
    "version": 3
   },
   "file_extension": ".py",
   "mimetype": "text/x-python",
   "name": "python",
   "nbconvert_exporter": "python",
   "pygments_lexer": "ipython3",
   "version": "3.8.8"
  }
 },
 "nbformat": 4,
 "nbformat_minor": 5
}
